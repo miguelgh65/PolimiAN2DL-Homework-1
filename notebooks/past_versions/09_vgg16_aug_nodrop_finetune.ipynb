{
 "cells": [
  {
   "cell_type": "code",
   "execution_count": 1,
   "id": "d5622deb",
   "metadata": {
    "execution": {
     "iopub.execute_input": "2021-11-23T07:22:13.923466Z",
     "iopub.status.busy": "2021-11-23T07:22:13.921399Z",
     "iopub.status.idle": "2021-11-23T07:22:20.633262Z",
     "shell.execute_reply": "2021-11-23T07:22:20.632239Z",
     "shell.execute_reply.started": "2021-11-22T19:07:46.551571Z"
    },
    "id": "Kad8mvnp85ML",
    "papermill": {
     "duration": 6.735061,
     "end_time": "2021-11-23T07:22:20.633434",
     "exception": false,
     "start_time": "2021-11-23T07:22:13.898373",
     "status": "completed"
    },
    "tags": []
   },
   "outputs": [],
   "source": [
    "import os\n",
    "import numpy as np\n",
    "from PIL import Image\n",
    "import matplotlib.pyplot as plt\n",
    "\n",
    "import tensorflow as tf\n",
    "import random\n",
    "import seaborn as sns\n",
    "#import matplotlib as mpl\n",
    "from sklearn.model_selection import train_test_split\n",
    "\n",
    "tfk = tf.keras\n",
    "tfkl = tf.keras.layers"
   ]
  },
  {
   "cell_type": "code",
   "execution_count": 2,
   "id": "7f10c572",
   "metadata": {
    "execution": {
     "iopub.execute_input": "2021-11-23T07:22:20.671571Z",
     "iopub.status.busy": "2021-11-23T07:22:20.670615Z",
     "iopub.status.idle": "2021-11-23T07:22:20.673309Z",
     "shell.execute_reply": "2021-11-23T07:22:20.673953Z",
     "shell.execute_reply.started": "2021-11-22T19:07:52.497427Z"
    },
    "id": "w6knwMhawphe",
    "papermill": {
     "duration": 0.023667,
     "end_time": "2021-11-23T07:22:20.674113",
     "exception": false,
     "start_time": "2021-11-23T07:22:20.650446",
     "status": "completed"
    },
    "tags": []
   },
   "outputs": [],
   "source": [
    "# Random seed for reproducibility\n",
    "seed = 1\n",
    "\n",
    "random.seed(seed)\n",
    "os.environ['PYTHONHASHSEED'] = str(seed)\n",
    "np.random.seed(seed)\n",
    "tf.random.set_seed(seed)\n",
    "tf.compat.v1.set_random_seed(seed)"
   ]
  },
  {
   "cell_type": "code",
   "execution_count": 3,
   "id": "1f85332c",
   "metadata": {
    "execution": {
     "iopub.execute_input": "2021-11-23T07:22:20.713701Z",
     "iopub.status.busy": "2021-11-23T07:22:20.712522Z",
     "iopub.status.idle": "2021-11-23T07:22:20.715708Z",
     "shell.execute_reply": "2021-11-23T07:22:20.715105Z",
     "shell.execute_reply.started": "2021-11-22T19:07:52.504403Z"
    },
    "id": "JOo_XD3Hwphj",
    "papermill": {
     "duration": 0.027529,
     "end_time": "2021-11-23T07:22:20.715842",
     "exception": false,
     "start_time": "2021-11-23T07:22:20.688313",
     "status": "completed"
    },
    "tags": []
   },
   "outputs": [],
   "source": [
    "# Utility function to create folders and callbacks for training\n",
    "from datetime import datetime\n",
    "\n",
    "exp_dir = ''\n",
    "\n",
    "def create_folders_and_callbacks(model_name):\n",
    "\n",
    "  exps_dir = os.path.join('experiments')\n",
    "  if not os.path.exists(exps_dir):\n",
    "      os.makedirs(exps_dir)\n",
    "\n",
    "  now = datetime.now().strftime('%Y-%m-%d_%H:%M')\n",
    "\n",
    "  exp_dir = os.path.join(exps_dir, model_name + '_' + str(now))\n",
    "  if not os.path.exists(exp_dir):\n",
    "      os.makedirs(exp_dir)\n",
    "      \n",
    "  callbacks = []\n",
    "\n",
    "  # Model checkpoint\n",
    "  # ----------------\n",
    "  ckpt_dir = os.path.join(exp_dir, 'ckpts')\n",
    "  if not os.path.exists(ckpt_dir):\n",
    "      os.makedirs(ckpt_dir)\n",
    "\n",
    "  ckpt_callback = tfk.callbacks.ModelCheckpoint(filepath=os.path.join(ckpt_dir, 'cp'),\n",
    "                                                save_weights_only=False,\n",
    "                                                save_best_only=False)\n",
    "  callbacks.append(ckpt_callback)\n",
    "\n",
    "  # Visualize Learning on Tensorboard\n",
    "  # ---------------------------------\n",
    "  tb_dir = os.path.join(exp_dir, 'tb_logs')\n",
    "  if not os.path.exists(tb_dir):\n",
    "      os.makedirs(tb_dir)\n",
    "      \n",
    "  tb_callback = tf.keras.callbacks.TensorBoard(log_dir=tb_dir,\n",
    "                                               profile_batch=0,\n",
    "                                               histogram_freq=1)\n",
    "  callbacks.append(tb_callback)"
   ]
  },
  {
   "cell_type": "code",
   "execution_count": 4,
   "id": "80adb0de",
   "metadata": {
    "execution": {
     "iopub.execute_input": "2021-11-23T07:22:20.747483Z",
     "iopub.status.busy": "2021-11-23T07:22:20.746676Z",
     "iopub.status.idle": "2021-11-23T07:22:20.750647Z",
     "shell.execute_reply": "2021-11-23T07:22:20.750100Z",
     "shell.execute_reply.started": "2021-11-22T19:07:52.527045Z"
    },
    "id": "y9uCi_Gf9G9B",
    "papermill": {
     "duration": 0.021185,
     "end_time": "2021-11-23T07:22:20.750881",
     "exception": false,
     "start_time": "2021-11-23T07:22:20.729696",
     "status": "completed"
    },
    "tags": []
   },
   "outputs": [],
   "source": [
    "#!unzip ANN_HW1.zip\n",
    "#import zipfile\n",
    "#with zipfile.ZipFile(\"dataset.zip\", 'r') as z:\n",
    "#    z.extractall()"
   ]
  },
  {
   "cell_type": "markdown",
   "id": "abc26274",
   "metadata": {
    "papermill": {
     "duration": 0.014005,
     "end_time": "2021-11-23T07:22:20.779176",
     "exception": false,
     "start_time": "2021-11-23T07:22:20.765171",
     "status": "completed"
    },
    "tags": []
   },
   "source": []
  },
  {
   "cell_type": "code",
   "execution_count": 5,
   "id": "d28c13c1",
   "metadata": {
    "execution": {
     "iopub.execute_input": "2021-11-23T07:22:20.813021Z",
     "iopub.status.busy": "2021-11-23T07:22:20.811954Z",
     "iopub.status.idle": "2021-11-23T07:22:20.814489Z",
     "shell.execute_reply": "2021-11-23T07:22:20.815032Z",
     "shell.execute_reply.started": "2021-11-22T19:07:52.534400Z"
    },
    "id": "voCaRwS49Mol",
    "papermill": {
     "duration": 0.022012,
     "end_time": "2021-11-23T07:22:20.815180",
     "exception": false,
     "start_time": "2021-11-23T07:22:20.793168",
     "status": "completed"
    },
    "tags": []
   },
   "outputs": [],
   "source": [
    "# Set the path to the dataset \n",
    "\n",
    "dataset_dir = '../input/homework1split/'\n",
    "training_dir = os.path.join(dataset_dir, 'train')\n",
    "validation_dir = os.path.join(dataset_dir, 'val')"
   ]
  },
  {
   "cell_type": "code",
   "execution_count": 6,
   "id": "6369bf24",
   "metadata": {
    "execution": {
     "iopub.execute_input": "2021-11-23T07:22:20.852022Z",
     "iopub.status.busy": "2021-11-23T07:22:20.851101Z",
     "iopub.status.idle": "2021-11-23T07:22:20.855150Z",
     "shell.execute_reply": "2021-11-23T07:22:20.855739Z",
     "shell.execute_reply.started": "2021-11-22T19:07:52.543612Z"
    },
    "id": "jffHrZfA9O3m",
    "outputId": "49dfacaa-98f5-4330-f427-8ba7c10c2a9c",
    "papermill": {
     "duration": 0.026561,
     "end_time": "2021-11-23T07:22:20.855896",
     "exception": false,
     "start_time": "2021-11-23T07:22:20.829335",
     "status": "completed"
    },
    "tags": []
   },
   "outputs": [
    {
     "data": {
      "text/plain": [
       "\"\\nlabels = ['Apple','Blueberry','Cherry','Corn','Grape','Orange','Peach','Pepper','Potato','Raspberry','Soybean','Squash','Strawberry','Tomato']\\n\\nnum_row = len(labels)//2\\nnum_col = len(labels)//num_row\\nfig, axes = plt.subplots(num_row, num_col, figsize=(2*num_row,15*num_col))\\nfor i in range(len(labels)):\\n    if i < len(labels):\\n        class_imgs = next(os.walk('{}/{}/'.format(training_dir, labels[i])))[2]\\n        class_img = class_imgs[0]\\n        img = Image.open('{}/{}/{}'.format(training_dir, labels[i], class_img))\\n        ax = axes[i//num_col, i%num_col]\\n        ax.imshow(np.array(img))\\n        ax.set_title('{}'.format(labels[i]))\\nplt.tight_layout()\\nplt.show()\\n\""
      ]
     },
     "execution_count": 6,
     "metadata": {},
     "output_type": "execute_result"
    }
   ],
   "source": [
    "# Plot example images from dataset\n",
    "'''\n",
    "labels = ['Apple','Blueberry','Cherry','Corn','Grape','Orange','Peach','Pepper','Potato','Raspberry','Soybean','Squash','Strawberry','Tomato']\n",
    "\n",
    "num_row = len(labels)//2\n",
    "num_col = len(labels)//num_row\n",
    "fig, axes = plt.subplots(num_row, num_col, figsize=(2*num_row,15*num_col))\n",
    "for i in range(len(labels)):\n",
    "    if i < len(labels):\n",
    "        class_imgs = next(os.walk('{}/{}/'.format(training_dir, labels[i])))[2]\n",
    "        class_img = class_imgs[0]\n",
    "        img = Image.open('{}/{}/{}'.format(training_dir, labels[i], class_img))\n",
    "        ax = axes[i//num_col, i%num_col]\n",
    "        ax.imshow(np.array(img))\n",
    "        ax.set_title('{}'.format(labels[i]))\n",
    "plt.tight_layout()\n",
    "plt.show()\n",
    "'''"
   ]
  },
  {
   "cell_type": "code",
   "execution_count": 7,
   "id": "b55de036",
   "metadata": {
    "execution": {
     "iopub.execute_input": "2021-11-23T07:22:20.889205Z",
     "iopub.status.busy": "2021-11-23T07:22:20.888097Z",
     "iopub.status.idle": "2021-11-23T07:22:29.613596Z",
     "shell.execute_reply": "2021-11-23T07:22:29.614342Z",
     "shell.execute_reply.started": "2021-11-22T19:07:52.556374Z"
    },
    "id": "Qb8WNAMbwpho",
    "outputId": "be1594ac-7690-4ba0-c901-b0ce8d6a489c",
    "papermill": {
     "duration": 8.743614,
     "end_time": "2021-11-23T07:22:29.614549",
     "exception": false,
     "start_time": "2021-11-23T07:22:20.870935",
     "status": "completed"
    },
    "tags": []
   },
   "outputs": [
    {
     "name": "stdout",
     "output_type": "stream",
     "text": [
      "Found 14176 images belonging to 14 classes.\n",
      "Found 3552 images belonging to 14 classes.\n"
     ]
    }
   ],
   "source": [
    "# Images are divided into folders, one for each class. \n",
    "# If the images are organized in such a way, we can exploit the \n",
    "# ImageDataGenerator to read them from disk.\n",
    "from tensorflow.keras.preprocessing.image import ImageDataGenerator\n",
    "from tensorflow.keras.applications.vgg16 import preprocess_input\n",
    "\n",
    "# Create an instance of ImageDataGenerator for training, validation, and test sets\n",
    "train_gen = ImageDataGenerator(rotation_range=30,\n",
    "                              height_shift_range=50,\n",
    "                              width_shift_range=50,\n",
    "                              zoom_range=0.3,\n",
    "                              horizontal_flip=True,\n",
    "                              vertical_flip=True, \n",
    "                              fill_mode='reflect',\n",
    "                              preprocessing_function=preprocess_input)\n",
    "# Obtain a data generator with the 'ImageDataGenerator.flow_from_directory' method\n",
    "\n",
    "train_dataset = train_gen.flow_from_directory(directory=training_dir,\n",
    "                                                target_size=(256,256),\n",
    "                                                color_mode='rgb',\n",
    "                                                classes=None,\n",
    "                                                batch_size=8,\n",
    "                                                shuffle=True,\n",
    "                                                class_mode='categorical',\n",
    "                                                seed=seed)\n",
    "\n",
    "\n",
    "valid_gen = ImageDataGenerator(preprocessing_function=preprocess_input)   \n",
    "\n",
    "validation_dataset = valid_gen.flow_from_directory(directory=validation_dir,\n",
    "                                                target_size=(256,256),\n",
    "                                                color_mode='rgb',\n",
    "                                                classes=None,\n",
    "                                                batch_size=8,\n",
    "                                                shuffle=True,\n",
    "                                                class_mode='categorical',\n",
    "                                                seed=seed)"
   ]
  },
  {
   "cell_type": "code",
   "execution_count": 8,
   "id": "76db90bd",
   "metadata": {
    "execution": {
     "iopub.execute_input": "2021-11-23T07:22:29.651756Z",
     "iopub.status.busy": "2021-11-23T07:22:29.650715Z",
     "iopub.status.idle": "2021-11-23T07:22:29.653262Z",
     "shell.execute_reply": "2021-11-23T07:22:29.653795Z",
     "shell.execute_reply.started": "2021-11-22T19:07:55.159286Z"
    },
    "id": "vzgrEKmlwphp",
    "papermill": {
     "duration": 0.023592,
     "end_time": "2021-11-23T07:22:29.653967",
     "exception": false,
     "start_time": "2021-11-23T07:22:29.630375",
     "status": "completed"
    },
    "tags": []
   },
   "outputs": [],
   "source": [
    "input_shape = (256, 256, 3)\n",
    "epochs = 150\n",
    "model_name = 'vgg_aug_nodrop'"
   ]
  },
  {
   "cell_type": "code",
   "execution_count": 9,
   "id": "81646e94",
   "metadata": {
    "execution": {
     "iopub.execute_input": "2021-11-23T07:22:29.694749Z",
     "iopub.status.busy": "2021-11-23T07:22:29.693584Z",
     "iopub.status.idle": "2021-11-23T07:22:29.696948Z",
     "shell.execute_reply": "2021-11-23T07:22:29.696259Z",
     "shell.execute_reply.started": "2021-11-22T19:07:55.165907Z"
    },
    "id": "YsthSXYWwphq",
    "papermill": {
     "duration": 0.027801,
     "end_time": "2021-11-23T07:22:29.697077",
     "exception": false,
     "start_time": "2021-11-23T07:22:29.669276",
     "status": "completed"
    },
    "tags": []
   },
   "outputs": [],
   "source": [
    "def build_model(input_shape):\n",
    "#create model\n",
    "\n",
    "    vgg = tfk.applications.VGG16(include_top=False, weights='imagenet', input_shape=input_shape)\n",
    "    \n",
    "    # Freeze the layers except the last convolutional block\n",
    "    for layer in vgg.layers[:-4]:\n",
    "        layer.trainable = False\n",
    "\n",
    "    model = tfk.Sequential()\n",
    "    model.add(vgg)\n",
    "    model.add(tfk.layers.Flatten())\n",
    "    model.add(tfkl.Dense(512, \n",
    "                         activation='relu',\n",
    "                         kernel_regularizer=tfk.regularizers.l2(0.001),\n",
    "                         kernel_initializer=tfk.initializers.GlorotUniform(seed)))\n",
    "    model.add(tfkl.Dense(256,\n",
    "                         activation='relu',  \n",
    "                         kernel_regularizer=tfk.regularizers.l2(0.001),\n",
    "                         kernel_initializer=tfk.initializers.GlorotUniform(seed)))\n",
    "    model.add(tfkl.Dense(14, activation='softmax'))\n",
    "\n",
    "    # Compile the model\n",
    "    model.compile(loss=tfk.losses.CategoricalCrossentropy(), \n",
    "                  optimizer=tfk.optimizers.Adam(0.0001), metrics='accuracy')\n",
    "\n",
    "    # Return the model\n",
    "    return model"
   ]
  },
  {
   "cell_type": "code",
   "execution_count": 10,
   "id": "27424877",
   "metadata": {
    "execution": {
     "iopub.execute_input": "2021-11-23T07:22:29.735138Z",
     "iopub.status.busy": "2021-11-23T07:22:29.734453Z",
     "iopub.status.idle": "2021-11-23T07:22:34.612328Z",
     "shell.execute_reply": "2021-11-23T07:22:34.611679Z",
     "shell.execute_reply.started": "2021-11-22T19:07:55.180317Z"
    },
    "id": "KMjOumEh1JfO",
    "outputId": "ee7e9b2a-b19c-477b-e097-8183556596af",
    "papermill": {
     "duration": 4.899844,
     "end_time": "2021-11-23T07:22:34.612476",
     "exception": false,
     "start_time": "2021-11-23T07:22:29.712632",
     "status": "completed"
    },
    "tags": []
   },
   "outputs": [
    {
     "name": "stderr",
     "output_type": "stream",
     "text": [
      "2021-11-23 07:22:29.831806: I tensorflow/stream_executor/cuda/cuda_gpu_executor.cc:937] successful NUMA node read from SysFS had negative value (-1), but there must be at least one NUMA node, so returning NUMA node zero\n",
      "2021-11-23 07:22:29.949925: I tensorflow/stream_executor/cuda/cuda_gpu_executor.cc:937] successful NUMA node read from SysFS had negative value (-1), but there must be at least one NUMA node, so returning NUMA node zero\n",
      "2021-11-23 07:22:29.951117: I tensorflow/stream_executor/cuda/cuda_gpu_executor.cc:937] successful NUMA node read from SysFS had negative value (-1), but there must be at least one NUMA node, so returning NUMA node zero\n",
      "2021-11-23 07:22:29.953187: I tensorflow/core/platform/cpu_feature_guard.cc:142] This TensorFlow binary is optimized with oneAPI Deep Neural Network Library (oneDNN) to use the following CPU instructions in performance-critical operations:  AVX2 FMA\n",
      "To enable them in other operations, rebuild TensorFlow with the appropriate compiler flags.\n",
      "2021-11-23 07:22:29.954621: I tensorflow/stream_executor/cuda/cuda_gpu_executor.cc:937] successful NUMA node read from SysFS had negative value (-1), but there must be at least one NUMA node, so returning NUMA node zero\n",
      "2021-11-23 07:22:29.955819: I tensorflow/stream_executor/cuda/cuda_gpu_executor.cc:937] successful NUMA node read from SysFS had negative value (-1), but there must be at least one NUMA node, so returning NUMA node zero\n",
      "2021-11-23 07:22:29.956916: I tensorflow/stream_executor/cuda/cuda_gpu_executor.cc:937] successful NUMA node read from SysFS had negative value (-1), but there must be at least one NUMA node, so returning NUMA node zero\n",
      "2021-11-23 07:22:32.231887: I tensorflow/stream_executor/cuda/cuda_gpu_executor.cc:937] successful NUMA node read from SysFS had negative value (-1), but there must be at least one NUMA node, so returning NUMA node zero\n",
      "2021-11-23 07:22:32.233159: I tensorflow/stream_executor/cuda/cuda_gpu_executor.cc:937] successful NUMA node read from SysFS had negative value (-1), but there must be at least one NUMA node, so returning NUMA node zero\n",
      "2021-11-23 07:22:32.234193: I tensorflow/stream_executor/cuda/cuda_gpu_executor.cc:937] successful NUMA node read from SysFS had negative value (-1), but there must be at least one NUMA node, so returning NUMA node zero\n",
      "2021-11-23 07:22:32.235114: I tensorflow/core/common_runtime/gpu/gpu_device.cc:1510] Created device /job:localhost/replica:0/task:0/device:GPU:0 with 15403 MB memory:  -> device: 0, name: Tesla P100-PCIE-16GB, pci bus id: 0000:00:04.0, compute capability: 6.0\n"
     ]
    },
    {
     "name": "stdout",
     "output_type": "stream",
     "text": [
      "Downloading data from https://storage.googleapis.com/tensorflow/keras-applications/vgg16/vgg16_weights_tf_dim_ordering_tf_kernels_notop.h5\n",
      "58892288/58889256 [==============================] - 0s 0us/step\n",
      "58900480/58889256 [==============================] - 0s 0us/step\n",
      "Model: \"sequential\"\n",
      "_________________________________________________________________\n",
      "Layer (type)                 Output Shape              Param #   \n",
      "=================================================================\n",
      "vgg16 (Functional)           (None, 8, 8, 512)         14714688  \n",
      "_________________________________________________________________\n",
      "flatten (Flatten)            (None, 32768)             0         \n",
      "_________________________________________________________________\n",
      "dense (Dense)                (None, 512)               16777728  \n",
      "_________________________________________________________________\n",
      "dense_1 (Dense)              (None, 256)               131328    \n",
      "_________________________________________________________________\n",
      "dense_2 (Dense)              (None, 14)                3598      \n",
      "=================================================================\n",
      "Total params: 31,627,342\n",
      "Trainable params: 23,992,078\n",
      "Non-trainable params: 7,635,264\n",
      "_________________________________________________________________\n"
     ]
    },
    {
     "data": {
      "image/png": "[encoded data removed]",
      "text/plain": [
       "<IPython.core.display.Image object>"
      ]
     },
     "execution_count": 10,
     "metadata": {},
     "output_type": "execute_result"
    }
   ],
   "source": [
    "model = build_model(input_shape)\n",
    "model.summary()\n",
    "tfk.utils.plot_model(model)"
   ]
  },
  {
   "cell_type": "code",
   "execution_count": 11,
   "id": "0b9b6ee9",
   "metadata": {
    "execution": {
     "iopub.execute_input": "2021-11-23T07:22:34.665476Z",
     "iopub.status.busy": "2021-11-23T07:22:34.664342Z",
     "iopub.status.idle": "2021-11-23T11:09:42.984761Z",
     "shell.execute_reply": "2021-11-23T11:09:42.984122Z"
    },
    "id": "QHMW3Jpf1nv9",
    "papermill": {
     "duration": 13628.3496,
     "end_time": "2021-11-23T11:09:42.984921",
     "exception": false,
     "start_time": "2021-11-23T07:22:34.635321",
     "status": "completed"
    },
    "tags": []
   },
   "outputs": [
    {
     "name": "stderr",
     "output_type": "stream",
     "text": [
      "2021-11-23 07:22:34.970155: I tensorflow/compiler/mlir/mlir_graph_optimization_pass.cc:185] None of the MLIR Optimization Passes are enabled (registered 2)\n"
     ]
    },
    {
     "name": "stdout",
     "output_type": "stream",
     "text": [
      "Epoch 1/150\n"
     ]
    },
    {
     "name": "stderr",
     "output_type": "stream",
     "text": [
      "2021-11-23 07:22:37.068818: I tensorflow/stream_executor/cuda/cuda_dnn.cc:369] Loaded cuDNN version 8005\n"
     ]
    },
    {
     "name": "stdout",
     "output_type": "stream",
     "text": [
      "1772/1772 [==============================] - 425s 235ms/step - loss: 1.3725 - accuracy: 0.8092 - val_loss: 0.8311 - val_accuracy: 0.9431\n",
      "Epoch 2/150\n",
      "1772/1772 [==============================] - 317s 179ms/step - loss: 0.7628 - accuracy: 0.9403 - val_loss: 0.6040 - val_accuracy: 0.9679\n",
      "Epoch 3/150\n",
      "1772/1772 [==============================] - 325s 183ms/step - loss: 0.5797 - accuracy: 0.9556 - val_loss: 0.5424 - val_accuracy: 0.9476\n",
      "Epoch 4/150\n",
      "1772/1772 [==============================] - 328s 185ms/step - loss: 0.4705 - accuracy: 0.9607 - val_loss: 0.3350 - val_accuracy: 0.9848\n",
      "Epoch 5/150\n",
      "1772/1772 [==============================] - 340s 192ms/step - loss: 0.3645 - accuracy: 0.9688 - val_loss: 0.3141 - val_accuracy: 0.9752\n",
      "Epoch 6/150\n",
      "1772/1772 [==============================] - 346s 195ms/step - loss: 0.3308 - accuracy: 0.9673 - val_loss: 0.2563 - val_accuracy: 0.9814\n",
      "Epoch 7/150\n",
      "1772/1772 [==============================] - 346s 195ms/step - loss: 0.2782 - accuracy: 0.9744 - val_loss: 0.2181 - val_accuracy: 0.9868\n",
      "Epoch 8/150\n",
      "1772/1772 [==============================] - 342s 193ms/step - loss: 0.2449 - accuracy: 0.9759 - val_loss: 0.2001 - val_accuracy: 0.9879\n",
      "Epoch 9/150\n",
      "1772/1772 [==============================] - 348s 197ms/step - loss: 0.2224 - accuracy: 0.9769 - val_loss: 0.1644 - val_accuracy: 0.9876\n",
      "Epoch 10/150\n",
      "1772/1772 [==============================] - 348s 196ms/step - loss: 0.2063 - accuracy: 0.9786 - val_loss: 0.1489 - val_accuracy: 0.9916\n",
      "Epoch 11/150\n",
      "1772/1772 [==============================] - 352s 199ms/step - loss: 0.1653 - accuracy: 0.9826 - val_loss: 0.1998 - val_accuracy: 0.9783\n",
      "Epoch 12/150\n",
      "1772/1772 [==============================] - 354s 200ms/step - loss: 0.1803 - accuracy: 0.9791 - val_loss: 0.1176 - val_accuracy: 0.9907\n",
      "Epoch 13/150\n",
      "1772/1772 [==============================] - 347s 196ms/step - loss: 0.1631 - accuracy: 0.9840 - val_loss: 0.1362 - val_accuracy: 0.9885\n",
      "Epoch 14/150\n",
      "1772/1772 [==============================] - 344s 194ms/step - loss: 0.1530 - accuracy: 0.9815 - val_loss: 0.1442 - val_accuracy: 0.9870\n",
      "Epoch 15/150\n",
      "1772/1772 [==============================] - 350s 197ms/step - loss: 0.1376 - accuracy: 0.9839 - val_loss: 0.1256 - val_accuracy: 0.9856\n",
      "Epoch 16/150\n",
      "1772/1772 [==============================] - 345s 195ms/step - loss: 0.1201 - accuracy: 0.9870 - val_loss: 0.0963 - val_accuracy: 0.9896\n",
      "Epoch 17/150\n",
      "1772/1772 [==============================] - 355s 200ms/step - loss: 0.1207 - accuracy: 0.9836 - val_loss: 0.1417 - val_accuracy: 0.9831\n",
      "Epoch 18/150\n",
      "1772/1772 [==============================] - 339s 191ms/step - loss: 0.1112 - accuracy: 0.9867 - val_loss: 0.0804 - val_accuracy: 0.9921\n",
      "Epoch 19/150\n",
      "1772/1772 [==============================] - 352s 199ms/step - loss: 0.1017 - accuracy: 0.9877 - val_loss: 0.1311 - val_accuracy: 0.9870\n",
      "Epoch 20/150\n",
      "1772/1772 [==============================] - 343s 194ms/step - loss: 0.1072 - accuracy: 0.9853 - val_loss: 0.1098 - val_accuracy: 0.9882\n",
      "Epoch 21/150\n",
      "1772/1772 [==============================] - 351s 198ms/step - loss: 0.0954 - accuracy: 0.9883 - val_loss: 0.1263 - val_accuracy: 0.9854\n",
      "Epoch 22/150\n",
      "1772/1772 [==============================] - 336s 190ms/step - loss: 0.0913 - accuracy: 0.9876 - val_loss: 0.0852 - val_accuracy: 0.9913\n",
      "Epoch 23/150\n",
      "1772/1772 [==============================] - 330s 186ms/step - loss: 0.0824 - accuracy: 0.9899 - val_loss: 0.0937 - val_accuracy: 0.9868\n",
      "Epoch 24/150\n",
      "1772/1772 [==============================] - 345s 195ms/step - loss: 0.0925 - accuracy: 0.9877 - val_loss: 0.0851 - val_accuracy: 0.9893\n",
      "Epoch 25/150\n",
      "1772/1772 [==============================] - 339s 191ms/step - loss: 0.0944 - accuracy: 0.9871 - val_loss: 0.2802 - val_accuracy: 0.9845\n",
      "Epoch 26/150\n",
      "1772/1772 [==============================] - 340s 192ms/step - loss: 0.0726 - accuracy: 0.9903 - val_loss: 0.1367 - val_accuracy: 0.9854\n",
      "Epoch 27/150\n",
      "1772/1772 [==============================] - 356s 201ms/step - loss: 0.0727 - accuracy: 0.9908 - val_loss: 0.0937 - val_accuracy: 0.9913\n",
      "Epoch 28/150\n",
      "1772/1772 [==============================] - 332s 188ms/step - loss: 0.0823 - accuracy: 0.9879 - val_loss: 0.0771 - val_accuracy: 0.9930\n",
      "Epoch 29/150\n",
      "1772/1772 [==============================] - 353s 199ms/step - loss: 0.0678 - accuracy: 0.9910 - val_loss: 0.0530 - val_accuracy: 0.9966\n",
      "Epoch 30/150\n",
      "1772/1772 [==============================] - 337s 190ms/step - loss: 0.0804 - accuracy: 0.9886 - val_loss: 0.1007 - val_accuracy: 0.9913\n",
      "Epoch 31/150\n",
      "1772/1772 [==============================] - 337s 190ms/step - loss: 0.0609 - accuracy: 0.9908 - val_loss: 0.0478 - val_accuracy: 0.9924\n",
      "Epoch 32/150\n",
      "1772/1772 [==============================] - 345s 195ms/step - loss: 0.0523 - accuracy: 0.9931 - val_loss: 0.0703 - val_accuracy: 0.9958\n",
      "Epoch 33/150\n",
      "1772/1772 [==============================] - 360s 203ms/step - loss: 0.0690 - accuracy: 0.9900 - val_loss: 0.0466 - val_accuracy: 0.9961\n",
      "Epoch 34/150\n",
      "1772/1772 [==============================] - 343s 194ms/step - loss: 0.0542 - accuracy: 0.9922 - val_loss: 0.0532 - val_accuracy: 0.9941\n",
      "Epoch 35/150\n",
      "1772/1772 [==============================] - 346s 195ms/step - loss: 0.0601 - accuracy: 0.9919 - val_loss: 0.0633 - val_accuracy: 0.9941\n",
      "Epoch 36/150\n",
      "1772/1772 [==============================] - 346s 195ms/step - loss: 0.0600 - accuracy: 0.9922 - val_loss: 0.1392 - val_accuracy: 0.9876\n",
      "Epoch 37/150\n",
      "1772/1772 [==============================] - 362s 204ms/step - loss: 0.0597 - accuracy: 0.9913 - val_loss: 0.0548 - val_accuracy: 0.9958\n",
      "Epoch 38/150\n",
      "1772/1772 [==============================] - 344s 194ms/step - loss: 0.0485 - accuracy: 0.9920 - val_loss: 0.0743 - val_accuracy: 0.9901\n",
      "Epoch 39/150\n",
      "1772/1772 [==============================] - 345s 194ms/step - loss: 0.0504 - accuracy: 0.9926 - val_loss: 0.0514 - val_accuracy: 0.9947\n"
     ]
    }
   ],
   "source": [
    "callbacks = create_folders_and_callbacks(model_name=model_name)\n",
    "\n",
    "# Train the model\n",
    "history = model.fit(\n",
    "    x = train_dataset,\n",
    "    epochs = epochs,\n",
    "    batch_size = 256,\n",
    "    validation_data = validation_dataset,\n",
    "    callbacks=[tfk.callbacks.EarlyStopping(monitor='val_accuracy', mode='max', patience=10, restore_best_weights=True)]\n",
    ").history"
   ]
  },
  {
   "cell_type": "code",
   "execution_count": 12,
   "id": "a566a3fb",
   "metadata": {
    "execution": {
     "iopub.execute_input": "2021-11-23T11:10:33.634357Z",
     "iopub.status.busy": "2021-11-23T11:10:33.633379Z",
     "iopub.status.idle": "2021-11-23T11:10:38.516743Z",
     "shell.execute_reply": "2021-11-23T11:10:38.515645Z"
    },
    "id": "204LC2z4wphs",
    "outputId": "6f9de4b5-cdbe-409d-ed93-f76aea8c5ddf",
    "papermill": {
     "duration": 30.767974,
     "end_time": "2021-11-23T11:10:38.516909",
     "exception": false,
     "start_time": "2021-11-23T11:10:07.748935",
     "status": "completed"
    },
    "tags": []
   },
   "outputs": [
    {
     "name": "stderr",
     "output_type": "stream",
     "text": [
      "2021-11-23 11:10:34.875431: W tensorflow/python/util/util.cc:348] Sets are not currently considered sequences, but this may change in the future, so consider avoiding using them.\n"
     ]
    }
   ],
   "source": [
    "# Save the model\n",
    "model.save(os.path.join(exp_dir, model_name))"
   ]
  },
  {
   "cell_type": "code",
   "execution_count": 13,
   "id": "753f94c4",
   "metadata": {
    "execution": {
     "iopub.execute_input": "2021-11-23T11:11:30.482196Z",
     "iopub.status.busy": "2021-11-23T11:11:30.481045Z",
     "iopub.status.idle": "2021-11-23T11:11:31.036279Z",
     "shell.execute_reply": "2021-11-23T11:11:31.036819Z"
    },
    "id": "eKRzLtFqwpht",
    "outputId": "fadb1e6b-a25e-4199-fb73-8339c7217c4f",
    "papermill": {
     "duration": 26.671923,
     "end_time": "2021-11-23T11:11:31.037007",
     "exception": false,
     "start_time": "2021-11-23T11:11:04.365084",
     "status": "completed"
    },
    "tags": []
   },
   "outputs": [
    {
     "data": {
      "image/png": "[encoded data removed]",
      "text/plain": [
       "<Figure size 1080x360 with 1 Axes>"
      ]
     },
     "metadata": {
      "needs_background": "light"
     },
     "output_type": "display_data"
    },
    {
     "data": {
      "image/png": "[encoded data removed]",
      "text/plain": [
       "<Figure size 1080x360 with 1 Axes>"
      ]
     },
     "metadata": {
      "needs_background": "light"
     },
     "output_type": "display_data"
    }
   ],
   "source": [
    "# Plot the training\n",
    "plt.figure(figsize=(15,5))\n",
    "plt.plot(history['loss'], label='Training', alpha=.8, color='#ff7f0e')\n",
    "plt.plot(history['val_loss'], label='Validation', alpha=.8, color='#4D61E2')\n",
    "plt.legend(loc='upper left')\n",
    "plt.title('Categorical Crossentropy')\n",
    "plt.grid(alpha=.3)\n",
    "\n",
    "plt.figure(figsize=(15,5))\n",
    "plt.plot(history['accuracy'], label='Training', alpha=.8, color='#ff7f0e')\n",
    "plt.plot(history['val_accuracy'], label='Validation', alpha=.8, color='#4D61E2')\n",
    "plt.legend(loc='upper left')\n",
    "plt.title('Accuracy')\n",
    "plt.grid(alpha=.3)\n",
    "\n",
    "plt.show()"
   ]
  },
  {
   "cell_type": "code",
   "execution_count": 14,
   "id": "8512883a",
   "metadata": {
    "execution": {
     "iopub.execute_input": "2021-11-23T11:12:22.349731Z",
     "iopub.status.busy": "2021-11-23T11:12:22.348827Z",
     "iopub.status.idle": "2021-11-23T11:12:22.708721Z",
     "shell.execute_reply": "2021-11-23T11:12:22.707994Z"
    },
    "papermill": {
     "duration": 26.144732,
     "end_time": "2021-11-23T11:12:22.709009",
     "exception": true,
     "start_time": "2021-11-23T11:11:56.564277",
     "status": "failed"
    },
    "tags": []
   },
   "outputs": [
    {
     "ename": "ValueError",
     "evalue": "Failed to find data adapter that can handle input: <class 'keras.preprocessing.image.ImageDataGenerator'>, <class 'NoneType'>",
     "output_type": "error",
     "traceback": [
      "\u001b[0;31m---------------------------------------------------------------------------\u001b[0m",
      "\u001b[0;31mValueError\u001b[0m                                Traceback (most recent call last)",
      "\u001b[0;32m/tmp/ipykernel_24/2021693768.py\u001b[0m in \u001b[0;36m<module>\u001b[0;34m\u001b[0m\n\u001b[1;32m      1\u001b[0m \u001b[0;31m# Predict the test set with the CNN\u001b[0m\u001b[0;34m\u001b[0m\u001b[0;34m\u001b[0m\u001b[0;34m\u001b[0m\u001b[0m\n\u001b[0;32m----> 2\u001b[0;31m \u001b[0mpredictions\u001b[0m \u001b[0;34m=\u001b[0m \u001b[0mmodel\u001b[0m\u001b[0;34m.\u001b[0m\u001b[0mpredict\u001b[0m\u001b[0;34m(\u001b[0m\u001b[0mvalid_gen\u001b[0m\u001b[0;34m)\u001b[0m\u001b[0;34m\u001b[0m\u001b[0;34m\u001b[0m\u001b[0m\n\u001b[0m",
      "\u001b[0;32m/opt/conda/lib/python3.7/site-packages/keras/engine/training.py\u001b[0m in \u001b[0;36mpredict\u001b[0;34m(self, x, batch_size, verbose, steps, callbacks, max_queue_size, workers, use_multiprocessing)\u001b[0m\n\u001b[1;32m   1728\u001b[0m           \u001b[0muse_multiprocessing\u001b[0m\u001b[0;34m=\u001b[0m\u001b[0muse_multiprocessing\u001b[0m\u001b[0;34m,\u001b[0m\u001b[0;34m\u001b[0m\u001b[0;34m\u001b[0m\u001b[0m\n\u001b[1;32m   1729\u001b[0m           \u001b[0mmodel\u001b[0m\u001b[0;34m=\u001b[0m\u001b[0mself\u001b[0m\u001b[0;34m,\u001b[0m\u001b[0;34m\u001b[0m\u001b[0;34m\u001b[0m\u001b[0m\n\u001b[0;32m-> 1730\u001b[0;31m           steps_per_execution=self._steps_per_execution)\n\u001b[0m\u001b[1;32m   1731\u001b[0m \u001b[0;34m\u001b[0m\u001b[0m\n\u001b[1;32m   1732\u001b[0m       \u001b[0;31m# Container that configures and calls `tf.keras.Callback`s.\u001b[0m\u001b[0;34m\u001b[0m\u001b[0;34m\u001b[0m\u001b[0;34m\u001b[0m\u001b[0m\n",
      "\u001b[0;32m/opt/conda/lib/python3.7/site-packages/keras/engine/data_adapter.py\u001b[0m in \u001b[0;36mget_data_handler\u001b[0;34m(*args, **kwargs)\u001b[0m\n\u001b[1;32m   1381\u001b[0m   \u001b[0;32mif\u001b[0m \u001b[0mgetattr\u001b[0m\u001b[0;34m(\u001b[0m\u001b[0mkwargs\u001b[0m\u001b[0;34m[\u001b[0m\u001b[0;34m\"model\"\u001b[0m\u001b[0;34m]\u001b[0m\u001b[0;34m,\u001b[0m \u001b[0;34m\"_cluster_coordinator\"\u001b[0m\u001b[0;34m,\u001b[0m \u001b[0;32mNone\u001b[0m\u001b[0;34m)\u001b[0m\u001b[0;34m:\u001b[0m\u001b[0;34m\u001b[0m\u001b[0;34m\u001b[0m\u001b[0m\n\u001b[1;32m   1382\u001b[0m     \u001b[0;32mreturn\u001b[0m \u001b[0m_ClusterCoordinatorDataHandler\u001b[0m\u001b[0;34m(\u001b[0m\u001b[0;34m*\u001b[0m\u001b[0margs\u001b[0m\u001b[0;34m,\u001b[0m \u001b[0;34m**\u001b[0m\u001b[0mkwargs\u001b[0m\u001b[0;34m)\u001b[0m\u001b[0;34m\u001b[0m\u001b[0;34m\u001b[0m\u001b[0m\n\u001b[0;32m-> 1383\u001b[0;31m   \u001b[0;32mreturn\u001b[0m \u001b[0mDataHandler\u001b[0m\u001b[0;34m(\u001b[0m\u001b[0;34m*\u001b[0m\u001b[0margs\u001b[0m\u001b[0;34m,\u001b[0m \u001b[0;34m**\u001b[0m\u001b[0mkwargs\u001b[0m\u001b[0;34m)\u001b[0m\u001b[0;34m\u001b[0m\u001b[0;34m\u001b[0m\u001b[0m\n\u001b[0m\u001b[1;32m   1384\u001b[0m \u001b[0;34m\u001b[0m\u001b[0m\n\u001b[1;32m   1385\u001b[0m \u001b[0;34m\u001b[0m\u001b[0m\n",
      "\u001b[0;32m/opt/conda/lib/python3.7/site-packages/keras/engine/data_adapter.py\u001b[0m in \u001b[0;36m__init__\u001b[0;34m(self, x, y, sample_weight, batch_size, steps_per_epoch, initial_epoch, epochs, shuffle, class_weight, max_queue_size, workers, use_multiprocessing, model, steps_per_execution, distribute)\u001b[0m\n\u001b[1;32m   1135\u001b[0m       \u001b[0mself\u001b[0m\u001b[0;34m.\u001b[0m\u001b[0m_steps_per_execution_value\u001b[0m \u001b[0;34m=\u001b[0m \u001b[0msteps_per_execution\u001b[0m\u001b[0;34m.\u001b[0m\u001b[0mnumpy\u001b[0m\u001b[0;34m(\u001b[0m\u001b[0;34m)\u001b[0m\u001b[0;34m.\u001b[0m\u001b[0mitem\u001b[0m\u001b[0;34m(\u001b[0m\u001b[0;34m)\u001b[0m\u001b[0;34m\u001b[0m\u001b[0;34m\u001b[0m\u001b[0m\n\u001b[1;32m   1136\u001b[0m \u001b[0;34m\u001b[0m\u001b[0m\n\u001b[0;32m-> 1137\u001b[0;31m     \u001b[0madapter_cls\u001b[0m \u001b[0;34m=\u001b[0m \u001b[0mselect_data_adapter\u001b[0m\u001b[0;34m(\u001b[0m\u001b[0mx\u001b[0m\u001b[0;34m,\u001b[0m \u001b[0my\u001b[0m\u001b[0;34m)\u001b[0m\u001b[0;34m\u001b[0m\u001b[0;34m\u001b[0m\u001b[0m\n\u001b[0m\u001b[1;32m   1138\u001b[0m     self._adapter = adapter_cls(\n\u001b[1;32m   1139\u001b[0m         \u001b[0mx\u001b[0m\u001b[0;34m,\u001b[0m\u001b[0;34m\u001b[0m\u001b[0;34m\u001b[0m\u001b[0m\n",
      "\u001b[0;32m/opt/conda/lib/python3.7/site-packages/keras/engine/data_adapter.py\u001b[0m in \u001b[0;36mselect_data_adapter\u001b[0;34m(x, y)\u001b[0m\n\u001b[1;32m    977\u001b[0m         \u001b[0;34m\"Failed to find data adapter that can handle \"\u001b[0m\u001b[0;34m\u001b[0m\u001b[0;34m\u001b[0m\u001b[0m\n\u001b[1;32m    978\u001b[0m         \"input: {}, {}\".format(\n\u001b[0;32m--> 979\u001b[0;31m             _type_name(x), _type_name(y)))\n\u001b[0m\u001b[1;32m    980\u001b[0m   \u001b[0;32melif\u001b[0m \u001b[0mlen\u001b[0m\u001b[0;34m(\u001b[0m\u001b[0madapter_cls\u001b[0m\u001b[0;34m)\u001b[0m \u001b[0;34m>\u001b[0m \u001b[0;36m1\u001b[0m\u001b[0;34m:\u001b[0m\u001b[0;34m\u001b[0m\u001b[0;34m\u001b[0m\u001b[0m\n\u001b[1;32m    981\u001b[0m     raise RuntimeError(\n",
      "\u001b[0;31mValueError\u001b[0m: Failed to find data adapter that can handle input: <class 'keras.preprocessing.image.ImageDataGenerator'>, <class 'NoneType'>"
     ]
    }
   ],
   "source": [
    "# Predict the test set with the CNN\n",
    "predictions = model.predict(valid_gen)"
   ]
  },
  {
   "cell_type": "code",
   "execution_count": null,
   "id": "2397ecb0",
   "metadata": {
    "papermill": {
     "duration": null,
     "end_time": null,
     "exception": null,
     "start_time": null,
     "status": "pending"
    },
    "tags": []
   },
   "outputs": [],
   "source": [
    "# Compute the confusion matrix\n",
    "cm = confusion_matrix(valid_gen.classes, np.argmax(predictions, axis=-1))\n",
    "\n",
    "#Compute the classification metrics\n",
    "accuracy = accuracy_score(valid_gen.classes, np.argmax(predictions, axis=-1))\n",
    "precision = precision_score(valid_gen.classes, np.argmax(predictions, axis=-1), average='macro')\n",
    "recall = recall_score(valid_gen.classes, np.argmax(predictions, axis=-1), average='macro')\n",
    "f1 = f1_score(valid_gen.classes, np.argmax(predictions, axis=-1), average='macro')\n",
    "print('Accuracy:',accuracy.round(4))\n",
    "print('Precision:',precision.round(4))\n",
    "print('Recall:',recall.round(4))\n",
    "print('F1:',f1.round(4))\n",
    "\n",
    "# Plot the confusion matrix\n",
    "plt.figure(figsize=(8,6))\n",
    "sns.heatmap(cm.T, xticklabels=list(valid_gen.class_indices), yticklabels=list(valid_gen.class_indices))\n",
    "plt.xlabel('True labels')\n",
    "plt.ylabel('Predicted labels')\n",
    "plt.show()"
   ]
  }
 ],
 "metadata": {
  "kernelspec": {
   "display_name": "Python 3",
   "language": "python",
   "name": "python3"
  },
  "language_info": {
   "codemirror_mode": {
    "name": "ipython",
    "version": 3
   },
   "file_extension": ".py",
   "mimetype": "text/x-python",
   "name": "python",
   "nbconvert_exporter": "python",
   "pygments_lexer": "ipython3",
   "version": "3.7.10"
  },
  "papermill": {
   "default_parameters": {},
   "duration": 13845.64211,
   "end_time": "2021-11-23T11:12:50.639923",
   "environment_variables": {},
   "exception": true,
   "input_path": "__notebook__.ipynb",
   "output_path": "__notebook__.ipynb",
   "parameters": {},
   "start_time": "2021-11-23T07:22:04.997813",
   "version": "2.3.3"
  }
 },
 "nbformat": 4,
 "nbformat_minor": 5
}
