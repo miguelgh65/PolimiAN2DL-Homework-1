{
  "cells": [
    {
      "cell_type": "code",
      "execution_count": 1,
      "metadata": {
        "execution": {
          "iopub.execute_input": "2021-11-14T22:44:37.355216Z",
          "iopub.status.busy": "2021-11-14T22:44:37.354667Z",
          "iopub.status.idle": "2021-11-14T22:44:37.362287Z",
          "shell.execute_reply": "2021-11-14T22:44:37.361605Z",
          "shell.execute_reply.started": "2021-11-14T22:44:37.355179Z"
        },
        "id": "Kad8mvnp85ML",
        "trusted": true
      },
      "outputs": [],
      "source": [
        "import os\n",
        "import numpy as np\n",
        "from PIL import Image\n",
        "import matplotlib.pyplot as plt\n",
        "\n",
        "import tensorflow as tf\n",
        "import random\n",
        "import seaborn as sns\n",
        "#import matplotlib as mpl\n",
        "from sklearn.model_selection import train_test_split\n",
        "\n",
        "tfk = tf.keras\n",
        "tfkl = tf.keras.layers"
      ]
    },
    {
      "cell_type": "code",
      "execution_count": 2,
      "metadata": {
        "execution": {
          "iopub.execute_input": "2021-11-14T22:44:37.364064Z",
          "iopub.status.busy": "2021-11-14T22:44:37.363689Z",
          "iopub.status.idle": "2021-11-14T22:44:37.375718Z",
          "shell.execute_reply": "2021-11-14T22:44:37.374944Z",
          "shell.execute_reply.started": "2021-11-14T22:44:37.364026Z"
        },
        "id": "w6knwMhawphe",
        "trusted": true
      },
      "outputs": [],
      "source": [
        "# Random seed for reproducibility\n",
        "seed = 1\n",
        "\n",
        "random.seed(seed)\n",
        "os.environ['PYTHONHASHSEED'] = str(seed)\n",
        "np.random.seed(seed)\n",
        "tf.random.set_seed(seed)\n",
        "tf.compat.v1.set_random_seed(seed)"
      ]
    },
    {
      "cell_type": "code",
      "execution_count": 3,
      "metadata": {
        "id": "JOo_XD3Hwphj"
      },
      "outputs": [],
      "source": [
        "# Utility function to create folders and callbacks for training\n",
        "from datetime import datetime\n",
        "\n",
        "exp_dir = ''\n",
        "\n",
        "def create_folders_and_callbacks(model_name):\n",
        "\n",
        "  exps_dir = os.path.join('experiments')\n",
        "  if not os.path.exists(exps_dir):\n",
        "      os.makedirs(exps_dir)\n",
        "\n",
        "  now = datetime.now().strftime('%Y-%m-%d_%H:%M')\n",
        "\n",
        "  exp_dir = os.path.join(exps_dir, model_name + '_' + str(now))\n",
        "  if not os.path.exists(exp_dir):\n",
        "      os.makedirs(exp_dir)\n",
        "      \n",
        "  callbacks = []\n",
        "\n",
        "  # Model checkpoint\n",
        "  # ----------------\n",
        "  ckpt_dir = os.path.join(exp_dir, 'ckpts')\n",
        "  if not os.path.exists(ckpt_dir):\n",
        "      os.makedirs(ckpt_dir)\n",
        "\n",
        "  ckpt_callback = tfk.callbacks.ModelCheckpoint(filepath=os.path.join(ckpt_dir, 'cp'),\n",
        "                                                save_weights_only=False,\n",
        "                                                save_best_only=False)\n",
        "  callbacks.append(ckpt_callback)\n",
        "\n",
        "  # Visualize Learning on Tensorboard\n",
        "  # ---------------------------------\n",
        "  tb_dir = os.path.join(exp_dir, 'tb_logs')\n",
        "  if not os.path.exists(tb_dir):\n",
        "      os.makedirs(tb_dir)\n",
        "      \n",
        "  tb_callback = tf.keras.callbacks.TensorBoard(log_dir=tb_dir,\n",
        "                                               profile_batch=0,\n",
        "                                               histogram_freq=1)\n",
        "  callbacks.append(tb_callback)"
      ]
    },
    {
      "cell_type": "code",
      "execution_count": 4,
      "metadata": {
        "execution": {
          "iopub.execute_input": "2021-11-14T22:44:37.378786Z",
          "iopub.status.busy": "2021-11-14T22:44:37.378247Z",
          "iopub.status.idle": "2021-11-14T22:44:37.385482Z",
          "shell.execute_reply": "2021-11-14T22:44:37.384708Z",
          "shell.execute_reply.started": "2021-11-14T22:44:37.378749Z"
        },
        "id": "y9uCi_Gf9G9B",
        "trusted": true
      },
      "outputs": [],
      "source": [
        "#!unzip ANN_HW1.zip\n",
        "#import zipfile\n",
        "#with zipfile.ZipFile(\"dataset.zip\", 'r') as z:\n",
        "#    z.extractall()"
      ]
    },
    {
      "cell_type": "markdown",
      "metadata": {},
      "source": []
    },
    {
      "cell_type": "code",
      "execution_count": 5,
      "metadata": {
        "execution": {
          "iopub.execute_input": "2021-11-14T22:44:37.388764Z",
          "iopub.status.busy": "2021-11-14T22:44:37.388539Z",
          "iopub.status.idle": "2021-11-14T22:44:37.394438Z",
          "shell.execute_reply": "2021-11-14T22:44:37.393653Z",
          "shell.execute_reply.started": "2021-11-14T22:44:37.388732Z"
        },
        "id": "voCaRwS49Mol",
        "trusted": true
      },
      "outputs": [],
      "source": [
        "# Set the path to the dataset \n",
        "\n",
        "dataset_dir = '../input/homework1-split/'\n",
        "training_dir = os.path.join(dataset_dir, 'train')\n",
        "validation_dir = os.path.join(dataset_dir, 'val')"
      ]
    },
    {
      "cell_type": "code",
      "execution_count": 6,
      "metadata": {
        "colab": {
          "base_uri": "https://localhost:8080/",
          "height": 1000
        },
        "execution": {
          "iopub.execute_input": "2021-11-14T22:44:37.396841Z",
          "iopub.status.busy": "2021-11-14T22:44:37.396440Z",
          "iopub.status.idle": "2021-11-14T22:44:39.491241Z",
          "shell.execute_reply": "2021-11-14T22:44:39.488955Z",
          "shell.execute_reply.started": "2021-11-14T22:44:37.396777Z"
        },
        "id": "jffHrZfA9O3m",
        "outputId": "49dfacaa-98f5-4330-f427-8ba7c10c2a9c",
        "trusted": true
      },
      "outputs": [
        {
          "data": {
            "text/plain": [
              "\"\\nlabels = ['Apple','Blueberry','Cherry','Corn','Grape','Orange','Peach','Pepper','Potato','Raspberry','Soybean','Squash','Strawberry','Tomato']\\n\\nnum_row = len(labels)//2\\nnum_col = len(labels)//num_row\\nfig, axes = plt.subplots(num_row, num_col, figsize=(2*num_row,15*num_col))\\nfor i in range(len(labels)):\\n    if i < len(labels):\\n        class_imgs = next(os.walk('{}/{}/'.format(training_dir, labels[i])))[2]\\n        class_img = class_imgs[0]\\n        img = Image.open('{}/{}/{}'.format(training_dir, labels[i], class_img))\\n        ax = axes[i//num_col, i%num_col]\\n        ax.imshow(np.array(img))\\n        ax.set_title('{}'.format(labels[i]))\\nplt.tight_layout()\\nplt.show()\\n\""
            ]
          },
          "execution_count": 6,
          "metadata": {},
          "output_type": "execute_result"
        }
      ],
      "source": [
        "# Plot example images from dataset\n",
        "'''\n",
        "labels = ['Apple','Blueberry','Cherry','Corn','Grape','Orange','Peach','Pepper','Potato','Raspberry','Soybean','Squash','Strawberry','Tomato']\n",
        "\n",
        "num_row = len(labels)//2\n",
        "num_col = len(labels)//num_row\n",
        "fig, axes = plt.subplots(num_row, num_col, figsize=(2*num_row,15*num_col))\n",
        "for i in range(len(labels)):\n",
        "    if i < len(labels):\n",
        "        class_imgs = next(os.walk('{}/{}/'.format(training_dir, labels[i])))[2]\n",
        "        class_img = class_imgs[0]\n",
        "        img = Image.open('{}/{}/{}'.format(training_dir, labels[i], class_img))\n",
        "        ax = axes[i//num_col, i%num_col]\n",
        "        ax.imshow(np.array(img))\n",
        "        ax.set_title('{}'.format(labels[i]))\n",
        "plt.tight_layout()\n",
        "plt.show()\n",
        "'''"
      ]
    },
    {
      "cell_type": "code",
      "execution_count": 7,
      "metadata": {
        "colab": {
          "base_uri": "https://localhost:8080/"
        },
        "execution": {
          "iopub.execute_input": "2021-11-14T22:44:39.493000Z",
          "iopub.status.busy": "2021-11-14T22:44:39.492583Z",
          "iopub.status.idle": "2021-11-14T22:44:40.659907Z",
          "shell.execute_reply": "2021-11-14T22:44:40.659107Z",
          "shell.execute_reply.started": "2021-11-14T22:44:39.492965Z"
        },
        "id": "Qb8WNAMbwpho",
        "outputId": "be1594ac-7690-4ba0-c901-b0ce8d6a489c",
        "trusted": true
      },
      "outputs": [
        {
          "name": "stdout",
          "output_type": "stream",
          "text": [
            "Found 14176 images belonging to 14 classes.\n",
            "Found 3552 images belonging to 14 classes.\n"
          ]
        }
      ],
      "source": [
        "# Images are divided into folders, one for each class. \n",
        "# If the images are organized in such a way, we can exploit the \n",
        "# ImageDataGenerator to read them from disk.\n",
        "from tensorflow.keras.preprocessing.image import ImageDataGenerator\n",
        "from tensorflow.keras.applications.vgg16 import preprocess_input\n",
        "\n",
        "# Create an instance of ImageDataGenerator for training, validation, and test sets\n",
        "train_gen = ImageDataGenerator(rotation_range=30,\n",
        "                              height_shift_range=50,\n",
        "                              width_shift_range=50,\n",
        "                              zoom_range=0.3,\n",
        "                              horizontal_flip=True,\n",
        "                              vertical_flip=True, \n",
        "                              fill_mode='reflect',\n",
        "                              preprocessing_function=preprocess_input)\n",
        "# Obtain a data generator with the 'ImageDataGenerator.flow_from_directory' method\n",
        "\n",
        "train_dataset = train_gen.flow_from_directory(directory=training_dir,\n",
        "                                                target_size=(256,256),\n",
        "                                                color_mode='rgb',\n",
        "                                                classes=None,\n",
        "                                                batch_size=8,\n",
        "                                                shuffle=True,\n",
        "                                                class_mode='categorical',\n",
        "                                                seed=seed)\n",
        "\n",
        "\n",
        "valid_gen = ImageDataGenerator(preprocessing_function=preprocess_input)   \n",
        "\n",
        "validation_dataset = valid_gen.flow_from_directory(directory=validation_dir,\n",
        "                                                target_size=(256,256),\n",
        "                                                color_mode='rgb',\n",
        "                                                classes=None,\n",
        "                                                batch_size=8,\n",
        "                                                shuffle=True,\n",
        "                                                class_mode='categorical',\n",
        "                                                seed=seed)"
      ]
    },
    {
      "cell_type": "code",
      "execution_count": 8,
      "metadata": {
        "execution": {
          "iopub.execute_input": "2021-11-14T22:46:22.492784Z",
          "iopub.status.busy": "2021-11-14T22:46:22.492510Z",
          "iopub.status.idle": "2021-11-14T22:46:22.496729Z",
          "shell.execute_reply": "2021-11-14T22:46:22.495978Z",
          "shell.execute_reply.started": "2021-11-14T22:46:22.492755Z"
        },
        "id": "vzgrEKmlwphp",
        "trusted": true
      },
      "outputs": [],
      "source": [
        "input_shape = (256, 256, 3)\n",
        "epochs = 150\n",
        "model_name = 'vgg_aug_nodrop'"
      ]
    },
    {
      "cell_type": "code",
      "execution_count": 9,
      "metadata": {
        "execution": {
          "iopub.execute_input": "2021-11-14T22:44:40.690594Z",
          "iopub.status.busy": "2021-11-14T22:44:40.690390Z",
          "iopub.status.idle": "2021-11-14T22:44:40.703418Z",
          "shell.execute_reply": "2021-11-14T22:44:40.702645Z",
          "shell.execute_reply.started": "2021-11-14T22:44:40.690559Z"
        },
        "id": "YsthSXYWwphq",
        "trusted": true
      },
      "outputs": [],
      "source": [
        "def build_model(input_shape):\n",
        "#create model\n",
        "\n",
        "    vgg = tfk.applications.VGG16(include_top=False, weights='imagenet', input_shape=input_shape)\n",
        "    \n",
        "    # Freeze the layers except the last convolutional block\n",
        "    for layer in vgg.layers[:-4]:\n",
        "        layer.trainable = False\n",
        "\n",
        "    model = tfk.Sequential()\n",
        "    model.add(vgg)\n",
        "    model.add(tfk.layers.Flatten())\n",
        "    model.add(tfkl.Dense(512, \n",
        "                         activation='relu',\n",
        "                         kernel_regularizer=tfk.regularizers.l2(0.001),\n",
        "                         kernel_initializer=tfk.initializers.GlorotUniform(seed)))\n",
        "    model.add(tfkl.Dense(256,\n",
        "                         activation='relu',  \n",
        "                         kernel_regularizer=tfk.regularizers.l2(0.001),\n",
        "                         kernel_initializer=tfk.initializers.GlorotUniform(seed)))\n",
        "    model.add(tfkl.Dense(14, activation='softmax'))\n",
        "\n",
        "    # Compile the model\n",
        "    model.compile(loss=tfk.losses.CategoricalCrossentropy(), \n",
        "                  optimizer=tfk.optimizers.Adam(0.0001), metrics='accuracy')\n",
        "\n",
        "    # Return the model\n",
        "    return model"
      ]
    },
    {
      "cell_type": "code",
      "execution_count": 10,
      "metadata": {
        "colab": {
          "base_uri": "https://localhost:8080/",
          "height": 207
        },
        "id": "KMjOumEh1JfO",
        "outputId": "ee7e9b2a-b19c-477b-e097-8183556596af"
      },
      "outputs": [
        {
          "name": "stderr",
          "output_type": "stream",
          "text": [
            "2021-11-22 19:47:48.399671: I tensorflow/core/platform/cpu_feature_guard.cc:151] This TensorFlow binary is optimized with oneAPI Deep Neural Network Library (oneDNN) to use the following CPU instructions in performance-critical operations:  FMA\n",
            "To enable them in other operations, rebuild TensorFlow with the appropriate compiler flags.\n",
            "2021-11-22 19:47:48.402943: I tensorflow/core/common_runtime/process_util.cc:146] Creating new thread pool with default inter op setting: 2. Tune using inter_op_parallelism_threads for best performance.\n"
          ]
        },
        {
          "name": "stdout",
          "output_type": "stream",
          "text": [
            "<keras.engine.input_layer.InputLayer object at 0x7f107ce2fca0>\n",
            "<keras.layers.convolutional.Conv2D object at 0x7f107ce1cb50>\n",
            "<keras.layers.convolutional.Conv2D object at 0x7f10eafe4340>\n",
            "<keras.layers.pooling.MaxPooling2D object at 0x7f107cb962b0>\n",
            "<keras.layers.convolutional.Conv2D object at 0x7f107cbda3a0>\n",
            "<keras.layers.convolutional.Conv2D object at 0x7f107cb207f0>\n",
            "<keras.layers.pooling.MaxPooling2D object at 0x7f107cb21a60>\n",
            "<keras.layers.convolutional.Conv2D object at 0x7f107cb2c040>\n",
            "<keras.layers.convolutional.Conv2D object at 0x7f107cb21df0>\n",
            "<keras.layers.convolutional.Conv2D object at 0x7f107cb30460>\n",
            "<keras.layers.pooling.MaxPooling2D object at 0x7f107cb31e80>\n",
            "<keras.layers.convolutional.Conv2D object at 0x7f107cb31100>\n",
            "<keras.layers.convolutional.Conv2D object at 0x7f107cb21100>\n",
            "<keras.layers.convolutional.Conv2D object at 0x7f107cb371c0>\n",
            "<keras.layers.pooling.MaxPooling2D object at 0x7f107cb37ca0>\n",
            "<keras.layers.convolutional.Conv2D object at 0x7f107cb37490>\n",
            "<keras.layers.convolutional.Conv2D object at 0x7f107cb36fd0>\n",
            "<keras.layers.convolutional.Conv2D object at 0x7f107cb3f040>\n",
            "<keras.layers.pooling.MaxPooling2D object at 0x7f107cb31c10>\n",
            "Model: \"sequential\"\n",
            "_________________________________________________________________\n",
            " Layer (type)                Output Shape              Param #   \n",
            "=================================================================\n",
            " vgg16 (Functional)          (None, 8, 8, 512)         14714688  \n",
            "                                                                 \n",
            " flatten (Flatten)           (None, 32768)             0         \n",
            "                                                                 \n",
            " dense (Dense)               (None, 512)               16777728  \n",
            "                                                                 \n",
            " dense_1 (Dense)             (None, 256)               131328    \n",
            "                                                                 \n",
            " dense_2 (Dense)             (None, 14)                3598      \n",
            "                                                                 \n",
            "=================================================================\n",
            "Total params: 31,627,342\n",
            "Trainable params: 23,992,078\n",
            "Non-trainable params: 7,635,264\n",
            "_________________________________________________________________\n"
          ]
        },
        {
          "data": {
            "image/png": "[encoded data removed]",
            "text/plain": [
              "<IPython.core.display.Image object>"
            ]
          },
          "execution_count": 10,
          "metadata": {},
          "output_type": "execute_result"
        }
      ],
      "source": [
        "model = build_model(input_shape)\n",
        "model.summary()\n",
        "tfk.utils.plot_model(model)"
      ]
    },
    {
      "cell_type": "code",
      "execution_count": 11,
      "metadata": {
        "id": "QHMW3Jpf1nv9"
      },
      "outputs": [
        {
          "name": "stdout",
          "output_type": "stream",
          "text": [
            "Epoch 1/150\n",
            "  12/1772 [..............................] - ETA: 2:33:45 - loss: 3.8093 - accuracy: 0.2917"
          ]
        },
        {
          "ename": "KeyboardInterrupt",
          "evalue": "",
          "output_type": "error",
          "traceback": [
            "\u001b[0;31m---------------------------------------------------------------------------\u001b[0m",
            "\u001b[0;31mKeyboardInterrupt\u001b[0m                         Traceback (most recent call last)",
            "\u001b[0;32m/tmp/ipykernel_249579/3589603136.py\u001b[0m in \u001b[0;36m<module>\u001b[0;34m\u001b[0m\n\u001b[1;32m      2\u001b[0m \u001b[0;34m\u001b[0m\u001b[0m\n\u001b[1;32m      3\u001b[0m \u001b[0;31m# Train the model\u001b[0m\u001b[0;34m\u001b[0m\u001b[0;34m\u001b[0m\u001b[0m\n\u001b[0;32m----> 4\u001b[0;31m history = model.fit(\n\u001b[0m\u001b[1;32m      5\u001b[0m     \u001b[0mx\u001b[0m \u001b[0;34m=\u001b[0m \u001b[0mtrain_dataset\u001b[0m\u001b[0;34m,\u001b[0m\u001b[0;34m\u001b[0m\u001b[0;34m\u001b[0m\u001b[0m\n\u001b[1;32m      6\u001b[0m     \u001b[0mepochs\u001b[0m \u001b[0;34m=\u001b[0m \u001b[0mepochs\u001b[0m\u001b[0;34m,\u001b[0m\u001b[0;34m\u001b[0m\u001b[0;34m\u001b[0m\u001b[0m\n",
            "\u001b[0;32m/usr/lib/python3.9/site-packages/keras/utils/traceback_utils.py\u001b[0m in \u001b[0;36merror_handler\u001b[0;34m(*args, **kwargs)\u001b[0m\n\u001b[1;32m     62\u001b[0m     \u001b[0mfiltered_tb\u001b[0m \u001b[0;34m=\u001b[0m \u001b[0;32mNone\u001b[0m\u001b[0;34m\u001b[0m\u001b[0;34m\u001b[0m\u001b[0m\n\u001b[1;32m     63\u001b[0m     \u001b[0;32mtry\u001b[0m\u001b[0;34m:\u001b[0m\u001b[0;34m\u001b[0m\u001b[0;34m\u001b[0m\u001b[0m\n\u001b[0;32m---> 64\u001b[0;31m       \u001b[0;32mreturn\u001b[0m \u001b[0mfn\u001b[0m\u001b[0;34m(\u001b[0m\u001b[0;34m*\u001b[0m\u001b[0margs\u001b[0m\u001b[0;34m,\u001b[0m \u001b[0;34m**\u001b[0m\u001b[0mkwargs\u001b[0m\u001b[0;34m)\u001b[0m\u001b[0;34m\u001b[0m\u001b[0;34m\u001b[0m\u001b[0m\n\u001b[0m\u001b[1;32m     65\u001b[0m     \u001b[0;32mexcept\u001b[0m \u001b[0mException\u001b[0m \u001b[0;32mas\u001b[0m \u001b[0me\u001b[0m\u001b[0;34m:\u001b[0m  \u001b[0;31m# pylint: disable=broad-except\u001b[0m\u001b[0;34m\u001b[0m\u001b[0;34m\u001b[0m\u001b[0m\n\u001b[1;32m     66\u001b[0m       \u001b[0mfiltered_tb\u001b[0m \u001b[0;34m=\u001b[0m \u001b[0m_process_traceback_frames\u001b[0m\u001b[0;34m(\u001b[0m\u001b[0me\u001b[0m\u001b[0;34m.\u001b[0m\u001b[0m__traceback__\u001b[0m\u001b[0;34m)\u001b[0m\u001b[0;34m\u001b[0m\u001b[0;34m\u001b[0m\u001b[0m\n",
            "\u001b[0;32m/usr/lib/python3.9/site-packages/keras/engine/training.py\u001b[0m in \u001b[0;36mfit\u001b[0;34m(self, x, y, batch_size, epochs, verbose, callbacks, validation_split, validation_data, shuffle, class_weight, sample_weight, initial_epoch, steps_per_epoch, validation_steps, validation_batch_size, validation_freq, max_queue_size, workers, use_multiprocessing)\u001b[0m\n\u001b[1;32m   1214\u001b[0m                 _r=1):\n\u001b[1;32m   1215\u001b[0m               \u001b[0mcallbacks\u001b[0m\u001b[0;34m.\u001b[0m\u001b[0mon_train_batch_begin\u001b[0m\u001b[0;34m(\u001b[0m\u001b[0mstep\u001b[0m\u001b[0;34m)\u001b[0m\u001b[0;34m\u001b[0m\u001b[0;34m\u001b[0m\u001b[0m\n\u001b[0;32m-> 1216\u001b[0;31m               \u001b[0mtmp_logs\u001b[0m \u001b[0;34m=\u001b[0m \u001b[0mself\u001b[0m\u001b[0;34m.\u001b[0m\u001b[0mtrain_function\u001b[0m\u001b[0;34m(\u001b[0m\u001b[0miterator\u001b[0m\u001b[0;34m)\u001b[0m\u001b[0;34m\u001b[0m\u001b[0;34m\u001b[0m\u001b[0m\n\u001b[0m\u001b[1;32m   1217\u001b[0m               \u001b[0;32mif\u001b[0m \u001b[0mdata_handler\u001b[0m\u001b[0;34m.\u001b[0m\u001b[0mshould_sync\u001b[0m\u001b[0;34m:\u001b[0m\u001b[0;34m\u001b[0m\u001b[0;34m\u001b[0m\u001b[0m\n\u001b[1;32m   1218\u001b[0m                 \u001b[0mcontext\u001b[0m\u001b[0;34m.\u001b[0m\u001b[0masync_wait\u001b[0m\u001b[0;34m(\u001b[0m\u001b[0;34m)\u001b[0m\u001b[0;34m\u001b[0m\u001b[0;34m\u001b[0m\u001b[0m\n",
            "\u001b[0;32m/usr/lib/python3.9/site-packages/tensorflow/python/util/traceback_utils.py\u001b[0m in \u001b[0;36merror_handler\u001b[0;34m(*args, **kwargs)\u001b[0m\n\u001b[1;32m    148\u001b[0m     \u001b[0mfiltered_tb\u001b[0m \u001b[0;34m=\u001b[0m \u001b[0;32mNone\u001b[0m\u001b[0;34m\u001b[0m\u001b[0;34m\u001b[0m\u001b[0m\n\u001b[1;32m    149\u001b[0m     \u001b[0;32mtry\u001b[0m\u001b[0;34m:\u001b[0m\u001b[0;34m\u001b[0m\u001b[0;34m\u001b[0m\u001b[0m\n\u001b[0;32m--> 150\u001b[0;31m       \u001b[0;32mreturn\u001b[0m \u001b[0mfn\u001b[0m\u001b[0;34m(\u001b[0m\u001b[0;34m*\u001b[0m\u001b[0margs\u001b[0m\u001b[0;34m,\u001b[0m \u001b[0;34m**\u001b[0m\u001b[0mkwargs\u001b[0m\u001b[0;34m)\u001b[0m\u001b[0;34m\u001b[0m\u001b[0;34m\u001b[0m\u001b[0m\n\u001b[0m\u001b[1;32m    151\u001b[0m     \u001b[0;32mexcept\u001b[0m \u001b[0mException\u001b[0m \u001b[0;32mas\u001b[0m \u001b[0me\u001b[0m\u001b[0;34m:\u001b[0m\u001b[0;34m\u001b[0m\u001b[0;34m\u001b[0m\u001b[0m\n\u001b[1;32m    152\u001b[0m       \u001b[0mfiltered_tb\u001b[0m \u001b[0;34m=\u001b[0m \u001b[0m_process_traceback_frames\u001b[0m\u001b[0;34m(\u001b[0m\u001b[0me\u001b[0m\u001b[0;34m.\u001b[0m\u001b[0m__traceback__\u001b[0m\u001b[0;34m)\u001b[0m\u001b[0;34m\u001b[0m\u001b[0;34m\u001b[0m\u001b[0m\n",
            "\u001b[0;32m/usr/lib/python3.9/site-packages/tensorflow/python/eager/def_function.py\u001b[0m in \u001b[0;36m__call__\u001b[0;34m(self, *args, **kwds)\u001b[0m\n\u001b[1;32m    908\u001b[0m \u001b[0;34m\u001b[0m\u001b[0m\n\u001b[1;32m    909\u001b[0m       \u001b[0;32mwith\u001b[0m \u001b[0mOptionalXlaContext\u001b[0m\u001b[0;34m(\u001b[0m\u001b[0mself\u001b[0m\u001b[0;34m.\u001b[0m\u001b[0m_jit_compile\u001b[0m\u001b[0;34m)\u001b[0m\u001b[0;34m:\u001b[0m\u001b[0;34m\u001b[0m\u001b[0;34m\u001b[0m\u001b[0m\n\u001b[0;32m--> 910\u001b[0;31m         \u001b[0mresult\u001b[0m \u001b[0;34m=\u001b[0m \u001b[0mself\u001b[0m\u001b[0;34m.\u001b[0m\u001b[0m_call\u001b[0m\u001b[0;34m(\u001b[0m\u001b[0;34m*\u001b[0m\u001b[0margs\u001b[0m\u001b[0;34m,\u001b[0m \u001b[0;34m**\u001b[0m\u001b[0mkwds\u001b[0m\u001b[0;34m)\u001b[0m\u001b[0;34m\u001b[0m\u001b[0;34m\u001b[0m\u001b[0m\n\u001b[0m\u001b[1;32m    911\u001b[0m \u001b[0;34m\u001b[0m\u001b[0m\n\u001b[1;32m    912\u001b[0m       \u001b[0mnew_tracing_count\u001b[0m \u001b[0;34m=\u001b[0m \u001b[0mself\u001b[0m\u001b[0;34m.\u001b[0m\u001b[0mexperimental_get_tracing_count\u001b[0m\u001b[0;34m(\u001b[0m\u001b[0;34m)\u001b[0m\u001b[0;34m\u001b[0m\u001b[0;34m\u001b[0m\u001b[0m\n",
            "\u001b[0;32m/usr/lib/python3.9/site-packages/tensorflow/python/eager/def_function.py\u001b[0m in \u001b[0;36m_call\u001b[0;34m(self, *args, **kwds)\u001b[0m\n\u001b[1;32m    940\u001b[0m       \u001b[0;31m# In this case we have created variables on the first call, so we run the\u001b[0m\u001b[0;34m\u001b[0m\u001b[0;34m\u001b[0m\u001b[0m\n\u001b[1;32m    941\u001b[0m       \u001b[0;31m# defunned version which is guaranteed to never create variables.\u001b[0m\u001b[0;34m\u001b[0m\u001b[0;34m\u001b[0m\u001b[0m\n\u001b[0;32m--> 942\u001b[0;31m       \u001b[0;32mreturn\u001b[0m \u001b[0mself\u001b[0m\u001b[0;34m.\u001b[0m\u001b[0m_stateless_fn\u001b[0m\u001b[0;34m(\u001b[0m\u001b[0;34m*\u001b[0m\u001b[0margs\u001b[0m\u001b[0;34m,\u001b[0m \u001b[0;34m**\u001b[0m\u001b[0mkwds\u001b[0m\u001b[0;34m)\u001b[0m  \u001b[0;31m# pylint: disable=not-callable\u001b[0m\u001b[0;34m\u001b[0m\u001b[0;34m\u001b[0m\u001b[0m\n\u001b[0m\u001b[1;32m    943\u001b[0m     \u001b[0;32melif\u001b[0m \u001b[0mself\u001b[0m\u001b[0;34m.\u001b[0m\u001b[0m_stateful_fn\u001b[0m \u001b[0;32mis\u001b[0m \u001b[0;32mnot\u001b[0m \u001b[0;32mNone\u001b[0m\u001b[0;34m:\u001b[0m\u001b[0;34m\u001b[0m\u001b[0;34m\u001b[0m\u001b[0m\n\u001b[1;32m    944\u001b[0m       \u001b[0;31m# Release the lock early so that multiple threads can perform the call\u001b[0m\u001b[0;34m\u001b[0m\u001b[0;34m\u001b[0m\u001b[0m\n",
            "\u001b[0;32m/usr/lib/python3.9/site-packages/tensorflow/python/eager/function.py\u001b[0m in \u001b[0;36m__call__\u001b[0;34m(self, *args, **kwargs)\u001b[0m\n\u001b[1;32m   3128\u001b[0m       (graph_function,\n\u001b[1;32m   3129\u001b[0m        filtered_flat_args) = self._maybe_define_function(args, kwargs)\n\u001b[0;32m-> 3130\u001b[0;31m     return graph_function._call_flat(\n\u001b[0m\u001b[1;32m   3131\u001b[0m         filtered_flat_args, captured_inputs=graph_function.captured_inputs)  # pylint: disable=protected-access\n\u001b[1;32m   3132\u001b[0m \u001b[0;34m\u001b[0m\u001b[0m\n",
            "\u001b[0;32m/usr/lib/python3.9/site-packages/tensorflow/python/eager/function.py\u001b[0m in \u001b[0;36m_call_flat\u001b[0;34m(self, args, captured_inputs, cancellation_manager)\u001b[0m\n\u001b[1;32m   1957\u001b[0m         and executing_eagerly):\n\u001b[1;32m   1958\u001b[0m       \u001b[0;31m# No tape is watching; skip to running the function.\u001b[0m\u001b[0;34m\u001b[0m\u001b[0;34m\u001b[0m\u001b[0m\n\u001b[0;32m-> 1959\u001b[0;31m       return self._build_call_outputs(self._inference_function.call(\n\u001b[0m\u001b[1;32m   1960\u001b[0m           ctx, args, cancellation_manager=cancellation_manager))\n\u001b[1;32m   1961\u001b[0m     forward_backward = self._select_forward_and_backward_functions(\n",
            "\u001b[0;32m/usr/lib/python3.9/site-packages/tensorflow/python/eager/function.py\u001b[0m in \u001b[0;36mcall\u001b[0;34m(self, ctx, args, cancellation_manager)\u001b[0m\n\u001b[1;32m    596\u001b[0m       \u001b[0;32mwith\u001b[0m \u001b[0m_InterpolateFunctionError\u001b[0m\u001b[0;34m(\u001b[0m\u001b[0mself\u001b[0m\u001b[0;34m)\u001b[0m\u001b[0;34m:\u001b[0m\u001b[0;34m\u001b[0m\u001b[0;34m\u001b[0m\u001b[0m\n\u001b[1;32m    597\u001b[0m         \u001b[0;32mif\u001b[0m \u001b[0mcancellation_manager\u001b[0m \u001b[0;32mis\u001b[0m \u001b[0;32mNone\u001b[0m\u001b[0;34m:\u001b[0m\u001b[0;34m\u001b[0m\u001b[0;34m\u001b[0m\u001b[0m\n\u001b[0;32m--> 598\u001b[0;31m           outputs = execute.execute(\n\u001b[0m\u001b[1;32m    599\u001b[0m               \u001b[0mstr\u001b[0m\u001b[0;34m(\u001b[0m\u001b[0mself\u001b[0m\u001b[0;34m.\u001b[0m\u001b[0msignature\u001b[0m\u001b[0;34m.\u001b[0m\u001b[0mname\u001b[0m\u001b[0;34m)\u001b[0m\u001b[0;34m,\u001b[0m\u001b[0;34m\u001b[0m\u001b[0;34m\u001b[0m\u001b[0m\n\u001b[1;32m    600\u001b[0m               \u001b[0mnum_outputs\u001b[0m\u001b[0;34m=\u001b[0m\u001b[0mself\u001b[0m\u001b[0;34m.\u001b[0m\u001b[0m_num_outputs\u001b[0m\u001b[0;34m,\u001b[0m\u001b[0;34m\u001b[0m\u001b[0;34m\u001b[0m\u001b[0m\n",
            "\u001b[0;32m/usr/lib/python3.9/site-packages/tensorflow/python/eager/execute.py\u001b[0m in \u001b[0;36mquick_execute\u001b[0;34m(op_name, num_outputs, inputs, attrs, ctx, name)\u001b[0m\n\u001b[1;32m     56\u001b[0m   \u001b[0;32mtry\u001b[0m\u001b[0;34m:\u001b[0m\u001b[0;34m\u001b[0m\u001b[0;34m\u001b[0m\u001b[0m\n\u001b[1;32m     57\u001b[0m     \u001b[0mctx\u001b[0m\u001b[0;34m.\u001b[0m\u001b[0mensure_initialized\u001b[0m\u001b[0;34m(\u001b[0m\u001b[0;34m)\u001b[0m\u001b[0;34m\u001b[0m\u001b[0;34m\u001b[0m\u001b[0m\n\u001b[0;32m---> 58\u001b[0;31m     tensors = pywrap_tfe.TFE_Py_Execute(ctx._handle, device_name, op_name,\n\u001b[0m\u001b[1;32m     59\u001b[0m                                         inputs, attrs, num_outputs)\n\u001b[1;32m     60\u001b[0m   \u001b[0;32mexcept\u001b[0m \u001b[0mcore\u001b[0m\u001b[0;34m.\u001b[0m\u001b[0m_NotOkStatusException\u001b[0m \u001b[0;32mas\u001b[0m \u001b[0me\u001b[0m\u001b[0;34m:\u001b[0m\u001b[0;34m\u001b[0m\u001b[0;34m\u001b[0m\u001b[0m\n",
            "\u001b[0;31mKeyboardInterrupt\u001b[0m: "
          ]
        }
      ],
      "source": [
        "callbacks = create_folders_and_callbacks(model_name=model_name)\n",
        "\n",
        "# Train the model\n",
        "history = model.fit(\n",
        "    x = train_dataset,\n",
        "    epochs = epochs,\n",
        "    batch_size = 256,\n",
        "    validation_data = validation_dataset,\n",
        "    callbacks=[tfk.callbacks.EarlyStopping(monitor='val_accuracy', mode='max', patience=10, restore_best_weights=True)]\n",
        ").history"
      ]
    },
    {
      "cell_type": "code",
      "execution_count": null,
      "metadata": {
        "colab": {
          "base_uri": "https://localhost:8080/"
        },
        "id": "204LC2z4wphs",
        "outputId": "6f9de4b5-cdbe-409d-ed93-f76aea8c5ddf"
      },
      "outputs": [],
      "source": [
        "# Save the model\n",
        "model.save(os.path.join(exp_dir, model_name))"
      ]
    },
    {
      "cell_type": "code",
      "execution_count": null,
      "metadata": {
        "colab": {
          "base_uri": "https://localhost:8080/",
          "height": 655
        },
        "id": "eKRzLtFqwpht",
        "outputId": "fadb1e6b-a25e-4199-fb73-8339c7217c4f"
      },
      "outputs": [],
      "source": [
        "# Plot the training\n",
        "plt.figure(figsize=(15,5))\n",
        "plt.plot(history['loss'], label='Training', alpha=.8, color='#ff7f0e')\n",
        "plt.plot(history['val_loss'], label='Validation', alpha=.8, color='#4D61E2')\n",
        "plt.legend(loc='upper left')\n",
        "plt.title('Categorical Crossentropy')\n",
        "plt.grid(alpha=.3)\n",
        "\n",
        "plt.figure(figsize=(15,5))\n",
        "plt.plot(history['accuracy'], label='Training', alpha=.8, color='#ff7f0e')\n",
        "plt.plot(history['val_accuracy'], label='Validation', alpha=.8, color='#4D61E2')\n",
        "plt.legend(loc='upper left')\n",
        "plt.title('Accuracy')\n",
        "plt.grid(alpha=.3)\n",
        "\n",
        "plt.show()"
      ]
    },
    {
      "cell_type": "code",
      "execution_count": null,
      "metadata": {},
      "outputs": [],
      "source": [
        "# Predict the test set with the CNN\n",
        "predictions = model.predict(valid_gen)"
      ]
    },
    {
      "cell_type": "code",
      "execution_count": null,
      "metadata": {},
      "outputs": [],
      "source": [
        "# Compute the confusion matrix\n",
        "cm = confusion_matrix(valid_gen.classes, np.argmax(predictions, axis=-1))\n",
        "\n",
        "#Compute the classification metrics\n",
        "accuracy = accuracy_score(valid_gen.classes, np.argmax(predictions, axis=-1))\n",
        "precision = precision_score(valid_gen.classes, np.argmax(predictions, axis=-1), average='macro')\n",
        "recall = recall_score(valid_gen.classes, np.argmax(predictions, axis=-1), average='macro')\n",
        "f1 = f1_score(valid_gen.classes, np.argmax(predictions, axis=-1), average='macro')\n",
        "print('Accuracy:',accuracy.round(4))\n",
        "print('Precision:',precision.round(4))\n",
        "print('Recall:',recall.round(4))\n",
        "print('F1:',f1.round(4))\n",
        "\n",
        "# Plot the confusion matrix\n",
        "plt.figure(figsize=(8,6))\n",
        "sns.heatmap(cm.T, xticklabels=list(valid_gen.class_indices), yticklabels=list(valid_gen.class_indices))\n",
        "plt.xlabel('True labels')\n",
        "plt.ylabel('Predicted labels')\n",
        "plt.show()"
      ]
    }
  ],
  "metadata": {
    "accelerator": "GPU",
    "colab": {
      "name": "current.ipynb",
      "provenance": []
    },
    "interpreter": {
      "hash": "e7370f93d1d0cde622a1f8e1c04877d8463912d04d973331ad4851f04de6915a"
    },
    "kernelspec": {
      "display_name": "Python 3.9.7 64-bit",
      "name": "python3"
    },
    "language_info": {
      "codemirror_mode": {
        "name": "ipython",
        "version": 3
      },
      "file_extension": ".py",
      "mimetype": "text/x-python",
      "name": "python",
      "nbconvert_exporter": "python",
      "pygments_lexer": "ipython3",
      "version": "3.9.7"
    }
  },
  "nbformat": 4,
  "nbformat_minor": 0
}
